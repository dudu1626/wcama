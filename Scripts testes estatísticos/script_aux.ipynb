{
 "cells": [
  {
   "cell_type": "markdown",
   "metadata": {},
   "source": [
    "# Consolidação dos resultados"
   ]
  },
  {
   "cell_type": "code",
   "execution_count": 1,
   "metadata": {},
   "outputs": [],
   "source": [
    "# importação bibliotecas\n",
    "import os\n",
    "import pandas as pd"
   ]
  },
  {
   "cell_type": "code",
   "execution_count": 3,
   "metadata": {},
   "outputs": [],
   "source": [
    "# caminho\n",
    "pasta = '01-resultadosLeNet\\\\LeNet-FP16_3-qt\\\\LeNet_carbono_1'\n",
    "\n",
    "# DataFrames para armazenar os dados\n",
    "tabela_treino = pd.DataFrame()\n",
    "tabela_teste = pd.DataFrame()"
   ]
  },
  {
   "cell_type": "code",
   "execution_count": 4,
   "metadata": {},
   "outputs": [],
   "source": [
    "# Iterar pelos arquivos na pasta\n",
    "for arquivo in os.listdir(pasta):\n",
    "    if arquivo.endswith('.csv'):\n",
    "        caminho_arquivo = os.path.join(pasta, arquivo)\n",
    "        \n",
    "        # Ler o arquivo CSV\n",
    "        df = pd.read_csv(caminho_arquivo)\n",
    "        \n",
    "        # Verificar se o nome do arquivo contém \"treino\" ou \"teste\"\n",
    "        if 'treino' in arquivo.lower():\n",
    "            tabela_treino = pd.concat([tabela_treino, df], ignore_index=True)\n",
    "        elif 'teste' in arquivo.lower():\n",
    "            tabela_teste = pd.concat([tabela_teste, df], ignore_index=True)\n"
   ]
  },
  {
   "cell_type": "code",
   "execution_count": 5,
   "metadata": {},
   "outputs": [],
   "source": [
    "# Salvar os DataFrames em arquivos Excel\n",
    "tabela_treino.to_excel(os.path.join(pasta, 'emissoes_treino.xlsx'), index=False)\n",
    "tabela_teste.to_excel(os.path.join(pasta, 'emissoes_teste.xlsx'), index=False)"
   ]
  },
  {
   "cell_type": "code",
   "execution_count": null,
   "metadata": {},
   "outputs": [],
   "source": []
  }
 ],
 "metadata": {
  "kernelspec": {
   "display_name": "Python 3",
   "language": "python",
   "name": "python3"
  },
  "language_info": {
   "codemirror_mode": {
    "name": "ipython",
    "version": 3
   },
   "file_extension": ".py",
   "mimetype": "text/x-python",
   "name": "python",
   "nbconvert_exporter": "python",
   "pygments_lexer": "ipython3",
   "version": "3.12.9"
  }
 },
 "nbformat": 4,
 "nbformat_minor": 2
}
